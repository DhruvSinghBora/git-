{
  "nbformat": 4,
  "nbformat_minor": 0,
  "metadata": {
    "colab": {
      "provenance": [],
      "gpuType": "T4",
      "authorship_tag": "ABX9TyO2jCvgEI3clJrgaWER7uiN",
      "include_colab_link": true
    },
    "kernelspec": {
      "name": "python3",
      "display_name": "Python 3"
    },
    "language_info": {
      "name": "python"
    },
    "accelerator": "GPU"
  },
  "cells": [
    {
      "cell_type": "markdown",
      "metadata": {
        "id": "view-in-github",
        "colab_type": "text"
      },
      "source": [
        "<a href=\"https://colab.research.google.com/github/DhruvSinghBora/git-/blob/main/test.ipynb\" target=\"_parent\"><img src=\"https://colab.research.google.com/assets/colab-badge.svg\" alt=\"Open In Colab\"/></a>"
      ]
    },
    {
      "cell_type": "code",
      "execution_count": 1,
      "metadata": {
        "colab": {
          "base_uri": "https://localhost:8080/"
        },
        "id": "Ihwe2IC5_vqP",
        "outputId": "3f545fd9-90ff-4cf2-8045-67773e308c8d"
      },
      "outputs": [
        {
          "output_type": "stream",
          "name": "stdout",
          "text": [
            "Dhruv\n"
          ]
        }
      ],
      "source": [
        "print (\"Dhruv\")"
      ]
    },
    {
      "cell_type": "code",
      "source": [
        "a= 10\n",
        "b= 30\n",
        "print (\"sum:\", a+b)"
      ],
      "metadata": {
        "colab": {
          "base_uri": "https://localhost:8080/"
        },
        "id": "dAiAFJ20Ajv2",
        "outputId": "20e93985-2e61-4761-a07a-4062846882e7"
      },
      "execution_count": 2,
      "outputs": [
        {
          "output_type": "stream",
          "name": "stdout",
          "text": [
            "sum: 40\n"
          ]
        }
      ]
    },
    {
      "cell_type": "code",
      "source": [],
      "metadata": {
        "id": "kR2J-MPIAwJT"
      },
      "execution_count": null,
      "outputs": []
    },
    {
      "cell_type": "markdown",
      "source": [
        "this is my sample program"
      ],
      "metadata": {
        "id": "n7TWTTzTBMZD"
      }
    },
    {
      "cell_type": "code",
      "source": [
        "import pandas as pd\n",
        "l = [1232,2,3,4]\n",
        "\n",
        "res = pd.Series(l)\n",
        "print (res)"
      ],
      "metadata": {
        "colab": {
          "base_uri": "https://localhost:8080/"
        },
        "id": "tAMDbsx2BOZv",
        "outputId": "e374b2b6-066b-4786-8e9c-5382251b51f0"
      },
      "execution_count": 2,
      "outputs": [
        {
          "output_type": "stream",
          "name": "stdout",
          "text": [
            "0    1232\n",
            "1       2\n",
            "2       3\n",
            "3       4\n",
            "dtype: int64\n"
          ]
        }
      ]
    },
    {
      "cell_type": "code",
      "source": [
        "import numpy as np\n",
        "arr= np.array((1,2,3,4,))\n",
        "print (arr)\n",
        "print (type(arr))"
      ],
      "metadata": {
        "colab": {
          "base_uri": "https://localhost:8080/"
        },
        "id": "i5eHvmwFCngy",
        "outputId": "463b73c6-417d-4d20-a379-57334d56ce22"
      },
      "execution_count": 4,
      "outputs": [
        {
          "output_type": "stream",
          "name": "stdout",
          "text": [
            "[1 2 3 4]\n",
            "<class 'numpy.ndarray'>\n"
          ]
        }
      ]
    },
    {
      "cell_type": "code",
      "source": [
        "import matplotlib.pyplot as plt\n",
        "\n",
        "xpts = np.array([0,1])\n",
        "ypts = np.array([0,100])\n",
        "plt.plot(xpts, ypts)\n",
        "plt.show()"
      ],
      "metadata": {
        "colab": {
          "base_uri": "https://localhost:8080/",
          "height": 430
        },
        "id": "HOrSiOYDC7KN",
        "outputId": "c7ecd7b4-f83c-4d62-e187-7b48fef5f470"
      },
      "execution_count": 5,
      "outputs": [
        {
          "output_type": "display_data",
          "data": {
            "text/plain": [
              "<Figure size 640x480 with 1 Axes>"
            ],
            "image/png": "[encoded data removed]"
          },
          "metadata": {}
        }
      ]
    },
    {
      "cell_type": "code",
      "source": [],
      "metadata": {
        "id": "sskA2EifDax9"
      },
      "execution_count": null,
      "outputs": []
    }
  ]
}